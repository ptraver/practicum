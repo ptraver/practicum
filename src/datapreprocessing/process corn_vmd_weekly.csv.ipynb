{
 "cells": [
  {
   "cell_type": "markdown",
   "id": "b0654837",
   "metadata": {},
   "source": [
    "# Make corn_vmd_weekly.csv"
   ]
  },
  {
   "cell_type": "code",
   "execution_count": 4,
   "id": "4d0fd657",
   "metadata": {},
   "outputs": [
    {
     "name": "stdout",
     "output_type": "stream",
     "text": [
      "Requirement already satisfied: vmdpy in /opt/anaconda3/lib/python3.7/site-packages (0.2)\r\n",
      "Requirement already satisfied: numpy in /opt/anaconda3/lib/python3.7/site-packages (from vmdpy) (1.20.3)\r\n"
     ]
    }
   ],
   "source": [
    "#VMD instalation\n",
    "!pip install vmdpy\n",
    "\n",
    "# Imports\n",
    "import pandas as pd\n",
    "import numpy as np\n",
    "from vmdpy import VMD\n",
    "\n",
    "# Pull corn data\n",
    "data_url = 'https://raw.githubusercontent.com/ptraver/data/main/corn_daily_V2.csv'\n",
    "corn_df = pd.read_csv(data_url, parse_dates=True, dayfirst=True, index_col='date')\n",
    "\n",
    "# fix bad name\n",
    "corn_df.columns = ['value']\n",
    "\n",
    "# take only 1974 - 2017\n",
    "corn_df = corn_df['1974-01-01':'2017-12-31']"
   ]
  },
  {
   "cell_type": "code",
   "execution_count": 5,
   "id": "dbf6b439",
   "metadata": {},
   "outputs": [],
   "source": [
    "# downsample to weekly\n",
    "corn_df = corn_df.resample('W').mean()"
   ]
  },
  {
   "cell_type": "code",
   "execution_count": 6,
   "id": "3ad9c9ad",
   "metadata": {},
   "outputs": [],
   "source": [
    "# Make VMD\n",
    "\n",
    "#. some sample parameters for VMD  \n",
    "alpha = 2000       # moderate bandwidth constraint  \n",
    "tau = 0.           # noise-tolerance (no strict fidelity enforcement)  \n",
    "K = 7              # 7 modes -- same amount as emd on this set\n",
    "DC = 0             # no DC part imposed  \n",
    "init = 0           # initialize omegas uniformly  \n",
    "tol = 1e-3\n",
    "\n",
    "u = VMD(corn_df['value'].values, alpha, tau, K, DC, init, tol)\n",
    "\n",
    "# sum up all modes except highest frequency\n",
    "v = np.zeros((len(u[0][0])))\n",
    "for i in range(K - 1):\n",
    "  v += u[0][i]\n",
    "\n",
    "# Make a corn_vmd dataframe\n",
    "corn_vmd = pd.DataFrame(v, columns=['value'], index=corn_df.index[:-1])"
   ]
  },
  {
   "cell_type": "code",
   "execution_count": 7,
   "id": "885146d4",
   "metadata": {},
   "outputs": [],
   "source": [
    "# Save dataframe\n",
    "corn_vmd.to_csv('corn_vmd_weekly.csv')"
   ]
  },
  {
   "cell_type": "markdown",
   "id": "d233bc71",
   "metadata": {},
   "source": [
    "# End"
   ]
  }
 ],
 "metadata": {
  "kernelspec": {
   "display_name": "Python 3",
   "language": "python",
   "name": "python3"
  },
  "language_info": {
   "codemirror_mode": {
    "name": "ipython",
    "version": 3
   },
   "file_extension": ".py",
   "mimetype": "text/x-python",
   "name": "python",
   "nbconvert_exporter": "python",
   "pygments_lexer": "ipython3",
   "version": "3.7.11"
  }
 },
 "nbformat": 4,
 "nbformat_minor": 5
}
