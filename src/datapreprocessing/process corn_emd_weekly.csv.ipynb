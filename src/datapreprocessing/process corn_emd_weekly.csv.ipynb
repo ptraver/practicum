{
 "cells": [
  {
   "cell_type": "markdown",
   "id": "3681b9a6",
   "metadata": {},
   "source": [
    "# Make corn_emd_weekly.csv"
   ]
  },
  {
   "cell_type": "code",
   "execution_count": 2,
   "id": "6ae59800",
   "metadata": {
    "scrolled": true
   },
   "outputs": [
    {
     "name": "stdout",
     "output_type": "stream",
     "text": [
      "Requirement already satisfied: pyyaml==5.1 in /opt/anaconda3/lib/python3.7/site-packages (5.1)\n",
      "Requirement already satisfied: emd in /opt/anaconda3/lib/python3.7/site-packages (0.5.4)\n",
      "Requirement already satisfied: scipy in /opt/anaconda3/lib/python3.7/site-packages (from emd) (1.7.3)\n",
      "Requirement already satisfied: sparse in /opt/anaconda3/lib/python3.7/site-packages (from emd) (0.13.0)\n",
      "Requirement already satisfied: numpy<1.22 in /opt/anaconda3/lib/python3.7/site-packages (from emd) (1.20.3)\n",
      "Requirement already satisfied: tabulate in /opt/anaconda3/lib/python3.7/site-packages (from emd) (0.8.9)\n",
      "Requirement already satisfied: joblib in /opt/anaconda3/lib/python3.7/site-packages (from emd) (1.1.0)\n",
      "Requirement already satisfied: pandas in /opt/anaconda3/lib/python3.7/site-packages (from emd) (1.3.4)\n",
      "Requirement already satisfied: dcor in /opt/anaconda3/lib/python3.7/site-packages (from emd) (0.5.3)\n",
      "Requirement already satisfied: matplotlib in /opt/anaconda3/lib/python3.7/site-packages (from emd) (3.5.1)\n",
      "Requirement already satisfied: pyyaml>=5.1 in /opt/anaconda3/lib/python3.7/site-packages (from emd) (5.1)\n",
      "Requirement already satisfied: numba>=0.51 in /opt/anaconda3/lib/python3.7/site-packages (from dcor->emd) (0.54.1)\n",
      "Requirement already satisfied: llvmlite<0.38,>=0.37.0rc1 in /opt/anaconda3/lib/python3.7/site-packages (from numba>=0.51->dcor->emd) (0.37.0)\n",
      "Requirement already satisfied: setuptools in /opt/anaconda3/lib/python3.7/site-packages (from numba>=0.51->dcor->emd) (58.0.4)\n",
      "Requirement already satisfied: python-dateutil>=2.7 in /opt/anaconda3/lib/python3.7/site-packages (from matplotlib->emd) (2.8.2)\n",
      "Requirement already satisfied: fonttools>=4.22.0 in /opt/anaconda3/lib/python3.7/site-packages (from matplotlib->emd) (4.25.0)\n",
      "Requirement already satisfied: packaging>=20.0 in /opt/anaconda3/lib/python3.7/site-packages (from matplotlib->emd) (21.3)\n",
      "Requirement already satisfied: cycler>=0.10 in /opt/anaconda3/lib/python3.7/site-packages (from matplotlib->emd) (0.11.0)\n",
      "Requirement already satisfied: pyparsing>=2.2.1 in /opt/anaconda3/lib/python3.7/site-packages (from matplotlib->emd) (3.0.4)\n",
      "Requirement already satisfied: pillow>=6.2.0 in /opt/anaconda3/lib/python3.7/site-packages (from matplotlib->emd) (8.4.0)\n",
      "Requirement already satisfied: kiwisolver>=1.0.1 in /opt/anaconda3/lib/python3.7/site-packages (from matplotlib->emd) (1.3.2)\n",
      "Requirement already satisfied: six>=1.5 in /opt/anaconda3/lib/python3.7/site-packages (from python-dateutil>=2.7->matplotlib->emd) (1.16.0)\n",
      "Requirement already satisfied: pytz>=2017.3 in /opt/anaconda3/lib/python3.7/site-packages (from pandas->emd) (2021.3)\n"
     ]
    }
   ],
   "source": [
    "# EMD installation\n",
    "\n",
    "!pip install pyyaml==5.1\n",
    "!pip install emd\n",
    "\n",
    "# Imports\n",
    "import pandas as pd\n",
    "import emd\n",
    "\n",
    "# Pull corn data\n",
    "data_url = 'https://raw.githubusercontent.com/ptraver/data/main/corn_daily_V2.csv'\n",
    "corn_df = pd.read_csv(data_url, parse_dates=True, dayfirst=True, index_col='date')\n",
    "\n",
    "# fix bad name\n",
    "corn_df.columns = ['value']\n",
    "\n",
    "# take only 1974 - 2017\n",
    "corn_df = corn_df['1974-01-01':'2017-12-31']"
   ]
  },
  {
   "cell_type": "code",
   "execution_count": 3,
   "id": "f644f750",
   "metadata": {},
   "outputs": [],
   "source": [
    "# downsample to weekly\n",
    "corn_df = corn_df.resample('W').mean()\n",
    "\n",
    "# Make emd\n",
    "imf1, continue_sift = emd.sift.get_next_imf(corn_df['value'].values)\n",
    "less_imf = corn_df['value'].values - imf1.flatten()\n",
    "\n",
    "# Make emd dataframe\n",
    "# EMD must lose its last value becuase the VMD process loses a value\n",
    "corn_emd = pd.DataFrame(less_imf[:-1], columns=['value'], index=corn_df.iloc[:-1].index)"
   ]
  },
  {
   "cell_type": "code",
   "execution_count": 4,
   "id": "dab957ae",
   "metadata": {},
   "outputs": [],
   "source": [
    "# Save dataframe\n",
    "corn_emd.to_csv('corn_emd_weekly.csv')"
   ]
  },
  {
   "cell_type": "markdown",
   "id": "d6488416",
   "metadata": {},
   "source": [
    "# End"
   ]
  }
 ],
 "metadata": {
  "kernelspec": {
   "display_name": "Python 3",
   "language": "python",
   "name": "python3"
  },
  "language_info": {
   "codemirror_mode": {
    "name": "ipython",
    "version": 3
   },
   "file_extension": ".py",
   "mimetype": "text/x-python",
   "name": "python",
   "nbconvert_exporter": "python",
   "pygments_lexer": "ipython3",
   "version": "3.7.11"
  }
 },
 "nbformat": 4,
 "nbformat_minor": 5
}
