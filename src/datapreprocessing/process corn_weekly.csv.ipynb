{
 "cells": [
  {
   "cell_type": "markdown",
   "id": "8992fa73",
   "metadata": {},
   "source": [
    "# Make corn_weekly.csv"
   ]
  },
  {
   "cell_type": "code",
   "execution_count": 1,
   "id": "4c084e2c",
   "metadata": {},
   "outputs": [],
   "source": [
    "# EMD installation\n",
    "\n",
    "# Imports\n",
    "import pandas as pd\n",
    "\n",
    "# Pull corn data\n",
    "data_url = 'https://raw.githubusercontent.com/ptraver/data/main/corn_daily_V2.csv'\n",
    "corn_df = pd.read_csv(data_url, parse_dates=True, dayfirst=True, index_col='date')\n",
    "\n",
    "# fix bad name\n",
    "corn_df.columns = ['value']\n",
    "\n",
    "# take only 1974 - 2017\n",
    "corn_df = corn_df['1974-01-01':'2017-12-31']"
   ]
  },
  {
   "cell_type": "code",
   "execution_count": 2,
   "id": "71c0b256",
   "metadata": {},
   "outputs": [],
   "source": [
    "# downsample to weekly\n",
    "corn_df = corn_df.resample('W').mean()"
   ]
  },
  {
   "cell_type": "code",
   "execution_count": 4,
   "id": "b6a7e63e",
   "metadata": {},
   "outputs": [],
   "source": [
    "# Save dataframe\n",
    "corn_df.to_csv('corn_weekly.csv')"
   ]
  },
  {
   "cell_type": "markdown",
   "id": "e03aa769",
   "metadata": {},
   "source": [
    "# End"
   ]
  }
 ],
 "metadata": {
  "kernelspec": {
   "display_name": "Python 3",
   "language": "python",
   "name": "python3"
  },
  "language_info": {
   "codemirror_mode": {
    "name": "ipython",
    "version": 3
   },
   "file_extension": ".py",
   "mimetype": "text/x-python",
   "name": "python",
   "nbconvert_exporter": "python",
   "pygments_lexer": "ipython3",
   "version": "3.7.11"
  }
 },
 "nbformat": 4,
 "nbformat_minor": 5
}
